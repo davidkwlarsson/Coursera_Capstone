{
 "cells": [
  {
   "cell_type": "markdown",
   "metadata": {
    "collapsed": true
   },
   "source": [
    "# Capstone Project - The Battle of Neighborhoods (Week 1)"
   ]
  },
  {
   "cell_type": "markdown",
   "metadata": {},
   "source": [
    "### Introduction\n",
    "\n",
    "The goal for this project will be to explore the differences and similarities between \"Koreatowns\" in cities in the US and Canada with the korean capital Seoul.\n",
    "   \n",
    "   - Seoul, Korea\n",
    "       - Toronto, Canada\n",
    "       - Los Angeles, USA\n",
    "       - New York, USA \n",
    "\n",
    "In this report the neigborhoods refered to as Koreatowns in cities outside of Korea will be compared with Seoul based on the distribution of venues. This will allow for a analysis of how similiar these \"Koreatowns\" actually are to the modern day Korean capital."
   ]
  },
  {
   "cell_type": "markdown",
   "metadata": {},
   "source": [
    "### Imports needed for data collection and exploration"
   ]
  },
  {
   "cell_type": "code",
   "execution_count": 1,
   "metadata": {},
   "outputs": [
    {
     "name": "stdout",
     "output_type": "stream",
     "text": [
      "Libraries imported.\n"
     ]
    }
   ],
   "source": [
    "import numpy as np # library to handle data in a vectorized manner\n",
    "\n",
    "import pandas as pd # library for data analsysis\n",
    "pd.set_option('display.max_columns', None)\n",
    "pd.set_option('display.max_rows', None)\n",
    "\n",
    "import json # library to handle JSON files\n",
    "\n",
    "#!conda install -c conda-forge geopy --yes # uncomment this line if you haven't completed the Foursquare API lab\n",
    "from geopy.geocoders import Nominatim # convert an address into latitude and longitude values\n",
    "\n",
    "# Matplotlib and associated plotting modules\n",
    "import matplotlib.cm as cm\n",
    "import matplotlib.colors as colors\n",
    "\n",
    "import requests # library to handle requests\n",
    "from pandas.io.json import json_normalize # tranform JSON file into a pandas dataframe\n",
    "\n",
    "#!conda install -c conda-forge folium=0.5.0 --yes # uncomment this line if you haven't completed the Foursquare API lab\n",
    "import folium # map rendering library\n",
    "\n",
    "print('Libraries imported.')"
   ]
  },
  {
   "cell_type": "markdown",
   "metadata": {},
   "source": [
    "### Data examples and exploration\n",
    "\n",
    "First the location for the Koreatowns in the cities will need to be located."
   ]
  },
  {
   "cell_type": "code",
   "execution_count": 2,
   "metadata": {},
   "outputs": [],
   "source": [
    "# Coordinates in latitude and longitude for the koreatowns in each city\n",
    "Toronto_latlong = [43.664516, -79.413005]\n",
    "LA_latlong = [34.0618, -118.3006]\n",
    "Newyork_latlong = [40.741997032, -73.985496058]\n",
    "\n",
    "# Coordinates for Seoul\n",
    "Seoul_latlong = [37.5665, 126.9780]"
   ]
  },
  {
   "cell_type": "code",
   "execution_count": 3,
   "metadata": {},
   "outputs": [],
   "source": [
    "# Use a radius of 500 meters for the koreatowns\n",
    "radius_town = 500\n",
    "\n",
    "# Radius of 3km for Seuol since its a whole city not just a community.\n",
    "radius_city = 3000\n",
    "\n",
    "radius = [800,800, 800, 3000]"
   ]
  },
  {
   "cell_type": "code",
   "execution_count": 4,
   "metadata": {},
   "outputs": [],
   "source": [
    "CLIENT_ID = '0UBWM0ZABLUIKP00GC25EG2VS4LWVPH4B03MPEZKUDNREGDK' # your Foursquare ID\n",
    "CLIENT_SECRET = 'AEBUOUU0N34NRHRJYNUYIQPRFDYJAEMHZT31UOTEBHFWFHXT' # your Foursquare Secret\n",
    "VERSION = '20180605' # Foursquare API version\n",
    "LIMIT = 100 # A default Foursquare API limit value"
   ]
  },
  {
   "cell_type": "code",
   "execution_count": 5,
   "metadata": {},
   "outputs": [],
   "source": [
    "# Function to extract venues from each location\n",
    "\n",
    "def getNearbyVenues(city, latitudes, longitudes, radius):\n",
    "    \n",
    "    venues_list=[]\n",
    "    for name, lat, lng, rad in zip(city, latitudes, longitudes, radius):\n",
    "        print(name)\n",
    "            \n",
    "        # create the API request URL\n",
    "        url = 'https://api.foursquare.com/v2/venues/explore?&client_id={}&client_secret={}&v={}&ll={},{}&radius={}&limit={}'.format(\n",
    "            CLIENT_ID, \n",
    "            CLIENT_SECRET, \n",
    "            VERSION, \n",
    "            lat, \n",
    "            lng, \n",
    "            rad, \n",
    "            LIMIT)\n",
    "            \n",
    "        # make the GET request\n",
    "        results = requests.get(url).json()[\"response\"]['groups'][0]['items']\n",
    "        \n",
    "        # return only relevant information for each nearby venue\n",
    "        venues_list.append([(\n",
    "            name, \n",
    "            lat, \n",
    "            lng, \n",
    "            v['venue']['name'], \n",
    "            v['venue']['location']['lat'], \n",
    "            v['venue']['location']['lng'],  \n",
    "            v['venue']['categories'][0]['name']) for v in results])\n",
    "\n",
    "    nearby_venues = pd.DataFrame([item for venue_list in venues_list for item in venue_list])\n",
    "    nearby_venues.columns = ['City', \n",
    "                  'Latitude', \n",
    "                  'Longitude', \n",
    "                  'Venue', \n",
    "                  'Venue Latitude', \n",
    "                  'Venue Longitude', \n",
    "                  'Venue Category']\n",
    "    \n",
    "    return(nearby_venues)"
   ]
  },
  {
   "cell_type": "code",
   "execution_count": 6,
   "metadata": {},
   "outputs": [],
   "source": [
    "cities = ['LA','NewYork', 'Toronto', 'Seoul']\n",
    "lats = [LA_latlong[0], Newyork_latlong[0], Toronto_latlong[0], Seoul_latlong[0]]\n",
    "longs = [LA_latlong[1], Newyork_latlong[1], Toronto_latlong[1], Seoul_latlong[1]]"
   ]
  },
  {
   "cell_type": "code",
   "execution_count": 7,
   "metadata": {},
   "outputs": [
    {
     "name": "stdout",
     "output_type": "stream",
     "text": [
      "LA\n",
      "NewYork\n",
      "Toronto\n",
      "Seoul\n"
     ]
    }
   ],
   "source": [
    "koreatowns_venues = getNearbyVenues(city = cities,\n",
    "                                  latitudes = lats,\n",
    "                                  longitudes = longs,\n",
    "                                   radius = radius)\n",
    "koreatowns_venues.reset_index()"
   ]
  },
  {
   "cell_type": "code",
   "execution_count": 8,
   "metadata": {},
   "outputs": [
    {
     "data": {
      "text/plain": [
       "(386, 7)"
      ]
     },
     "execution_count": 8,
     "metadata": {},
     "output_type": "execute_result"
    }
   ],
   "source": [
    "koreatowns_venues.shape"
   ]
  },
  {
   "cell_type": "markdown",
   "metadata": {},
   "source": [
    "### Exmaple of data for the different Cities"
   ]
  },
  {
   "cell_type": "code",
   "execution_count": 12,
   "metadata": {
    "scrolled": true
   },
   "outputs": [
    {
     "data": {
      "text/html": [
       "<div>\n",
       "<style scoped>\n",
       "    .dataframe tbody tr th:only-of-type {\n",
       "        vertical-align: middle;\n",
       "    }\n",
       "\n",
       "    .dataframe tbody tr th {\n",
       "        vertical-align: top;\n",
       "    }\n",
       "\n",
       "    .dataframe thead th {\n",
       "        text-align: right;\n",
       "    }\n",
       "</style>\n",
       "<table border=\"1\" class=\"dataframe\">\n",
       "  <thead>\n",
       "    <tr style=\"text-align: right;\">\n",
       "      <th></th>\n",
       "      <th>City</th>\n",
       "      <th>Latitude</th>\n",
       "      <th>Longitude</th>\n",
       "      <th>Venue</th>\n",
       "      <th>Venue Latitude</th>\n",
       "      <th>Venue Longitude</th>\n",
       "      <th>Venue Category</th>\n",
       "    </tr>\n",
       "  </thead>\n",
       "  <tbody>\n",
       "    <tr>\n",
       "      <th>0</th>\n",
       "      <td>LA</td>\n",
       "      <td>34.0618</td>\n",
       "      <td>-118.3006</td>\n",
       "      <td>BCD Tofu House</td>\n",
       "      <td>34.061961</td>\n",
       "      <td>-118.302713</td>\n",
       "      <td>Korean Restaurant</td>\n",
       "    </tr>\n",
       "    <tr>\n",
       "      <th>1</th>\n",
       "      <td>LA</td>\n",
       "      <td>34.0618</td>\n",
       "      <td>-118.3006</td>\n",
       "      <td>The LINE Hotel</td>\n",
       "      <td>34.062040</td>\n",
       "      <td>-118.300909</td>\n",
       "      <td>Hotel</td>\n",
       "    </tr>\n",
       "    <tr>\n",
       "      <th>2</th>\n",
       "      <td>LA</td>\n",
       "      <td>34.0618</td>\n",
       "      <td>-118.3006</td>\n",
       "      <td>Alfred Coffee Koreatown</td>\n",
       "      <td>34.061756</td>\n",
       "      <td>-118.300938</td>\n",
       "      <td>Café</td>\n",
       "    </tr>\n",
       "    <tr>\n",
       "      <th>3</th>\n",
       "      <td>LA</td>\n",
       "      <td>34.0618</td>\n",
       "      <td>-118.3006</td>\n",
       "      <td>Poketo</td>\n",
       "      <td>34.061798</td>\n",
       "      <td>-118.300865</td>\n",
       "      <td>Clothing Store</td>\n",
       "    </tr>\n",
       "    <tr>\n",
       "      <th>4</th>\n",
       "      <td>LA</td>\n",
       "      <td>34.0618</td>\n",
       "      <td>-118.3006</td>\n",
       "      <td>Cassell's Hamburgers</td>\n",
       "      <td>34.063417</td>\n",
       "      <td>-118.300411</td>\n",
       "      <td>Burger Joint</td>\n",
       "    </tr>\n",
       "  </tbody>\n",
       "</table>\n",
       "</div>"
      ],
      "text/plain": [
       "  City  Latitude  Longitude                    Venue  Venue Latitude  \\\n",
       "0   LA   34.0618  -118.3006           BCD Tofu House       34.061961   \n",
       "1   LA   34.0618  -118.3006           The LINE Hotel       34.062040   \n",
       "2   LA   34.0618  -118.3006  Alfred Coffee Koreatown       34.061756   \n",
       "3   LA   34.0618  -118.3006                   Poketo       34.061798   \n",
       "4   LA   34.0618  -118.3006     Cassell's Hamburgers       34.063417   \n",
       "\n",
       "   Venue Longitude     Venue Category  \n",
       "0      -118.302713  Korean Restaurant  \n",
       "1      -118.300909              Hotel  \n",
       "2      -118.300938               Café  \n",
       "3      -118.300865     Clothing Store  \n",
       "4      -118.300411       Burger Joint  "
      ]
     },
     "execution_count": 12,
     "metadata": {},
     "output_type": "execute_result"
    }
   ],
   "source": [
    "koreatowns_venues[koreatowns_venues['City'] == 'LA'].head(5)"
   ]
  },
  {
   "cell_type": "code",
   "execution_count": 13,
   "metadata": {
    "scrolled": true
   },
   "outputs": [
    {
     "data": {
      "text/html": [
       "<div>\n",
       "<style scoped>\n",
       "    .dataframe tbody tr th:only-of-type {\n",
       "        vertical-align: middle;\n",
       "    }\n",
       "\n",
       "    .dataframe tbody tr th {\n",
       "        vertical-align: top;\n",
       "    }\n",
       "\n",
       "    .dataframe thead th {\n",
       "        text-align: right;\n",
       "    }\n",
       "</style>\n",
       "<table border=\"1\" class=\"dataframe\">\n",
       "  <thead>\n",
       "    <tr style=\"text-align: right;\">\n",
       "      <th></th>\n",
       "      <th>City</th>\n",
       "      <th>Latitude</th>\n",
       "      <th>Longitude</th>\n",
       "      <th>Venue</th>\n",
       "      <th>Venue Latitude</th>\n",
       "      <th>Venue Longitude</th>\n",
       "      <th>Venue Category</th>\n",
       "    </tr>\n",
       "  </thead>\n",
       "  <tbody>\n",
       "    <tr>\n",
       "      <th>91</th>\n",
       "      <td>NewYork</td>\n",
       "      <td>40.741997</td>\n",
       "      <td>-73.985496</td>\n",
       "      <td>Equinox Gramercy</td>\n",
       "      <td>40.740749</td>\n",
       "      <td>-73.985771</td>\n",
       "      <td>Gym</td>\n",
       "    </tr>\n",
       "    <tr>\n",
       "      <th>92</th>\n",
       "      <td>NewYork</td>\n",
       "      <td>40.741997</td>\n",
       "      <td>-73.985496</td>\n",
       "      <td>CAVA</td>\n",
       "      <td>40.740842</td>\n",
       "      <td>-73.985510</td>\n",
       "      <td>Mediterranean Restaurant</td>\n",
       "    </tr>\n",
       "    <tr>\n",
       "      <th>93</th>\n",
       "      <td>NewYork</td>\n",
       "      <td>40.741997</td>\n",
       "      <td>-73.985496</td>\n",
       "      <td>Upland</td>\n",
       "      <td>40.741891</td>\n",
       "      <td>-73.984640</td>\n",
       "      <td>New American Restaurant</td>\n",
       "    </tr>\n",
       "    <tr>\n",
       "      <th>94</th>\n",
       "      <td>NewYork</td>\n",
       "      <td>40.741997</td>\n",
       "      <td>-73.985496</td>\n",
       "      <td>Madison Square Park</td>\n",
       "      <td>40.742262</td>\n",
       "      <td>-73.988006</td>\n",
       "      <td>Park</td>\n",
       "    </tr>\n",
       "    <tr>\n",
       "      <th>95</th>\n",
       "      <td>NewYork</td>\n",
       "      <td>40.741997</td>\n",
       "      <td>-73.985496</td>\n",
       "      <td>Barry's Bootcamp</td>\n",
       "      <td>40.742532</td>\n",
       "      <td>-73.984152</td>\n",
       "      <td>Gym / Fitness Center</td>\n",
       "    </tr>\n",
       "  </tbody>\n",
       "</table>\n",
       "</div>"
      ],
      "text/plain": [
       "       City   Latitude  Longitude                Venue  Venue Latitude  \\\n",
       "91  NewYork  40.741997 -73.985496     Equinox Gramercy       40.740749   \n",
       "92  NewYork  40.741997 -73.985496                 CAVA       40.740842   \n",
       "93  NewYork  40.741997 -73.985496               Upland       40.741891   \n",
       "94  NewYork  40.741997 -73.985496  Madison Square Park       40.742262   \n",
       "95  NewYork  40.741997 -73.985496     Barry's Bootcamp       40.742532   \n",
       "\n",
       "    Venue Longitude            Venue Category  \n",
       "91       -73.985771                       Gym  \n",
       "92       -73.985510  Mediterranean Restaurant  \n",
       "93       -73.984640   New American Restaurant  \n",
       "94       -73.988006                      Park  \n",
       "95       -73.984152      Gym / Fitness Center  "
      ]
     },
     "execution_count": 13,
     "metadata": {},
     "output_type": "execute_result"
    }
   ],
   "source": [
    "koreatowns_venues[koreatowns_venues['City'] == 'NewYork'].head(5)"
   ]
  },
  {
   "cell_type": "code",
   "execution_count": 14,
   "metadata": {
    "scrolled": true
   },
   "outputs": [
    {
     "data": {
      "text/html": [
       "<div>\n",
       "<style scoped>\n",
       "    .dataframe tbody tr th:only-of-type {\n",
       "        vertical-align: middle;\n",
       "    }\n",
       "\n",
       "    .dataframe tbody tr th {\n",
       "        vertical-align: top;\n",
       "    }\n",
       "\n",
       "    .dataframe thead th {\n",
       "        text-align: right;\n",
       "    }\n",
       "</style>\n",
       "<table border=\"1\" class=\"dataframe\">\n",
       "  <thead>\n",
       "    <tr style=\"text-align: right;\">\n",
       "      <th></th>\n",
       "      <th>City</th>\n",
       "      <th>Latitude</th>\n",
       "      <th>Longitude</th>\n",
       "      <th>Venue</th>\n",
       "      <th>Venue Latitude</th>\n",
       "      <th>Venue Longitude</th>\n",
       "      <th>Venue Category</th>\n",
       "    </tr>\n",
       "  </thead>\n",
       "  <tbody>\n",
       "    <tr>\n",
       "      <th>286</th>\n",
       "      <td>Seoul</td>\n",
       "      <td>37.5665</td>\n",
       "      <td>126.978</td>\n",
       "      <td>무교동북어국집</td>\n",
       "      <td>37.567852</td>\n",
       "      <td>126.979753</td>\n",
       "      <td>Korean Restaurant</td>\n",
       "    </tr>\n",
       "    <tr>\n",
       "      <th>287</th>\n",
       "      <td>Seoul</td>\n",
       "      <td>37.5665</td>\n",
       "      <td>126.978</td>\n",
       "      <td>Läderach chocolatier suisse (레더라)</td>\n",
       "      <td>37.568153</td>\n",
       "      <td>126.978265</td>\n",
       "      <td>Chocolate Shop</td>\n",
       "    </tr>\n",
       "    <tr>\n",
       "      <th>288</th>\n",
       "      <td>Seoul</td>\n",
       "      <td>37.5665</td>\n",
       "      <td>126.978</td>\n",
       "      <td>철철복집</td>\n",
       "      <td>37.567393</td>\n",
       "      <td>126.981310</td>\n",
       "      <td>Seafood Restaurant</td>\n",
       "    </tr>\n",
       "    <tr>\n",
       "      <th>289</th>\n",
       "      <td>Seoul</td>\n",
       "      <td>37.5665</td>\n",
       "      <td>126.978</td>\n",
       "      <td>The Plaza Hotel (더 플라자)</td>\n",
       "      <td>37.564621</td>\n",
       "      <td>126.978060</td>\n",
       "      <td>Hotel</td>\n",
       "    </tr>\n",
       "    <tr>\n",
       "      <th>290</th>\n",
       "      <td>Seoul</td>\n",
       "      <td>37.5665</td>\n",
       "      <td>126.978</td>\n",
       "      <td>Seoul Plaza (서울광장)</td>\n",
       "      <td>37.565475</td>\n",
       "      <td>126.977937</td>\n",
       "      <td>Pedestrian Plaza</td>\n",
       "    </tr>\n",
       "  </tbody>\n",
       "</table>\n",
       "</div>"
      ],
      "text/plain": [
       "      City  Latitude  Longitude                              Venue  \\\n",
       "286  Seoul   37.5665    126.978                            무교동북어국집   \n",
       "287  Seoul   37.5665    126.978  Läderach chocolatier suisse (레더라)   \n",
       "288  Seoul   37.5665    126.978                               철철복집   \n",
       "289  Seoul   37.5665    126.978            The Plaza Hotel (더 플라자)   \n",
       "290  Seoul   37.5665    126.978                 Seoul Plaza (서울광장)   \n",
       "\n",
       "     Venue Latitude  Venue Longitude      Venue Category  \n",
       "286       37.567852       126.979753   Korean Restaurant  \n",
       "287       37.568153       126.978265      Chocolate Shop  \n",
       "288       37.567393       126.981310  Seafood Restaurant  \n",
       "289       37.564621       126.978060               Hotel  \n",
       "290       37.565475       126.977937    Pedestrian Plaza  "
      ]
     },
     "execution_count": 14,
     "metadata": {},
     "output_type": "execute_result"
    }
   ],
   "source": [
    "koreatowns_venues[koreatowns_venues['City'] == 'Seoul'].head(5)"
   ]
  },
  {
   "cell_type": "markdown",
   "metadata": {},
   "source": [
    "### For this project the Venue category will be used to determine characteristics of the areas"
   ]
  },
  {
   "cell_type": "code",
   "execution_count": 15,
   "metadata": {},
   "outputs": [],
   "source": [
    "koreatown_NY = koreatowns_venues[koreatowns_venues['City'] == 'NewYork']\n",
    "koreatown_LA = koreatowns_venues[koreatowns_venues['City'] == 'LA']\n",
    "koreatown_TO = koreatowns_venues[koreatowns_venues['City'] == 'Toronto']\n",
    "seoul = koreatowns_venues[koreatowns_venues['City'] == 'Seoul']"
   ]
  },
  {
   "cell_type": "code",
   "execution_count": 25,
   "metadata": {
    "scrolled": false
   },
   "outputs": [
    {
     "name": "stdout",
     "output_type": "stream",
     "text": [
      "Number of unique categories for venues 125\n"
     ]
    }
   ],
   "source": [
    "print(\"Number of unique categories for venues\" , len(koreatowns_venues['Venue Category'].unique()))"
   ]
  },
  {
   "cell_type": "markdown",
   "metadata": {},
   "source": [
    "Note: There could be difference in how the category labels are defined in different cities. A restaurant in Seoul most likely would fall under the category of Korean restaurant in another city. However this will be ignore for now."
   ]
  },
  {
   "cell_type": "code",
   "execution_count": null,
   "metadata": {},
   "outputs": [],
   "source": []
  },
  {
   "cell_type": "markdown",
   "metadata": {},
   "source": [
    "# Analysis"
   ]
  },
  {
   "cell_type": "code",
   "execution_count": null,
   "metadata": {},
   "outputs": [],
   "source": [
    "\n",
    "\n",
    "# import k-means from clustering stage\n",
    "from sklearn.cluster import KMeans"
   ]
  }
 ],
 "metadata": {
  "kernelspec": {
   "display_name": "Python 3.7",
   "language": "python",
   "name": "python3"
  },
  "language_info": {
   "codemirror_mode": {
    "name": "ipython",
    "version": 3
   },
   "file_extension": ".py",
   "mimetype": "text/x-python",
   "name": "python",
   "nbconvert_exporter": "python",
   "pygments_lexer": "ipython3",
   "version": "3.7.10"
  }
 },
 "nbformat": 4,
 "nbformat_minor": 1
}
